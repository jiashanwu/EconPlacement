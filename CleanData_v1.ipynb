{
 "cells": [
  {
   "cell_type": "markdown",
   "metadata": {},
   "source": [
    "Importing modules:"
   ]
  },
  {
   "cell_type": "code",
   "execution_count": 547,
   "metadata": {},
   "outputs": [],
   "source": [
    "import pandas as pd\n",
    "import re\n",
    "import Levenshtein as lev\n",
    "import numpy as np\n",
    "import nltk\n",
    "\n",
    "import spacy\n",
    "from spacy import displacy\n",
    "from collections import Counter\n",
    "import en_core_web_sm\n",
    "\n",
    "import operator\n",
    "import plotly.graph_objects as go\n",
    "from plotly.subplots import make_subplots\n",
    "import plotly.express as px\n",
    "from IPython.display import Image"
   ]
  },
  {
   "cell_type": "markdown",
   "metadata": {},
   "source": [
    "Read two datafiles: one is the individual-level placement (data2020-xx-xx); one is the university-level info (e.g. rank, location,etc)."
   ]
  },
  {
   "cell_type": "code",
   "execution_count": 538,
   "metadata": {},
   "outputs": [],
   "source": [
    "filename = \"data//data2020-05-30\"\n",
    "df = pd.read_csv(filename + '.csv')\n",
    "plm_acr = pd.read_excel(\"placement_univ_acronym.xlsx\")"
   ]
  },
  {
   "cell_type": "markdown",
   "metadata": {},
   "source": [
    "## Cleaning the year column"
   ]
  },
  {
   "cell_type": "markdown",
   "metadata": {},
   "source": [
    "I find that the format of year data is not the same (some integer, some float, some string, etc)."
   ]
  },
  {
   "cell_type": "code",
   "execution_count": 370,
   "metadata": {
    "scrolled": true
   },
   "outputs": [
    {
     "data": {
      "text/plain": [
       "2018         365\n",
       "2015         338\n",
       "2017         325\n",
       "2019         319\n",
       "2016         312\n",
       "2013         299\n",
       "2014         284\n",
       "2011         280\n",
       "2012         259\n",
       "2010         213\n",
       "2008         172\n",
       "2009         154\n",
       "2020         152\n",
       "2007         135\n",
       "2006         110\n",
       "2005         107\n",
       "2004          48\n",
       "2002          33\n",
       "2003          30\n",
       "2001          28\n",
       "2000          26\n",
       "1999          24\n",
       "2016          17\n",
       "2019-2020     16\n",
       "1998           9\n",
       "2011.0         9\n",
       "1995           9\n",
       "2006.0         8\n",
       "1996           8\n",
       "1994           7\n",
       "2016.0         7\n",
       "2019.0         7\n",
       "1993           7\n",
       "2018.0         7\n",
       "2009.0         7\n",
       "2017.0         7\n",
       "2008.0         6\n",
       "1997           6\n",
       "1991           6\n",
       "2010.0         5\n",
       "2013.0         5\n",
       "2015.0         5\n",
       "2005.0         4\n",
       "2007.0         4\n",
       "2012.0         4\n",
       "2020.0         4\n",
       "2014.0         3\n",
       "1992           2\n",
       "2014           2\n",
       "2017 Fall      1\n",
       "Name: Year, dtype: int64"
      ]
     },
     "execution_count": 370,
     "metadata": {},
     "output_type": "execute_result"
    }
   ],
   "source": [
    "# Tabulate all year data\n",
    "df['Year'].value_counts()"
   ]
  },
  {
   "cell_type": "markdown",
   "metadata": {},
   "source": [
    "Manually correct the format and several outliers of the year data:"
   ]
  },
  {
   "cell_type": "code",
   "execution_count": 371,
   "metadata": {},
   "outputs": [],
   "source": [
    "df = df[pd.isna(df['Year']) == False]\n",
    "df[df['Year'] == '2019-2020'] = '2020'\n",
    "df[df['Year'] == '2017\\xa0Fall'] = '2017'\n",
    "df['Year'] = df['Year'].astype(float).astype(int)"
   ]
  },
  {
   "cell_type": "code",
   "execution_count": 372,
   "metadata": {
    "scrolled": true
   },
   "outputs": [
    {
     "data": {
      "text/plain": [
       "2020    172\n",
       "2019    326\n",
       "2018    372\n",
       "2017    333\n",
       "2016    336\n",
       "2015    343\n",
       "2014    289\n",
       "2013    304\n",
       "2012    263\n",
       "2011    289\n",
       "2010    218\n",
       "2009    161\n",
       "2008    178\n",
       "2007    139\n",
       "2006    118\n",
       "2005    111\n",
       "2004     48\n",
       "2003     30\n",
       "2002     33\n",
       "2001     28\n",
       "2000     26\n",
       "1999     24\n",
       "1998      9\n",
       "1997      6\n",
       "1996      8\n",
       "1995      9\n",
       "1994      7\n",
       "1993      7\n",
       "1992      2\n",
       "1991      6\n",
       "Name: Year, dtype: int64"
      ]
     },
     "execution_count": 372,
     "metadata": {},
     "output_type": "execute_result"
    }
   ],
   "source": [
    "# Tabulate all year data\n",
    "df['Year'].value_counts().sort_index(ascending = False)"
   ]
  },
  {
   "cell_type": "markdown",
   "metadata": {},
   "source": [
    "## Cleaning the placement data\n",
    "\n",
    "The placement data requires more efforts to clean. Manually correct the below syntax:"
   ]
  },
  {
   "cell_type": "code",
   "execution_count": 374,
   "metadata": {},
   "outputs": [],
   "source": [
    "df['Placement'] = df['Placement'].str.replace('–', ' ')\n",
    "df['Placement'] = df['Placement'].str.replace('—', ' ')\n",
    "df['Placement'] = df['Placement'].str.replace('^\\s+', '', regex = True)\n",
    "df['Placement'] = df['Placement'].str.replace('^<strong>', '', regex = True)\n",
    "df['Placement'] = df['Placement'].str.replace('^<span>', '', regex = True)\n",
    "df['Placement'] = df['Placement'].str.replace('^<a href=\".*\">', '', regex = True)\n",
    "df['Placement'] = df['Placement'].str.replace('<.*>', '', regex = True)\n",
    "df['Placement'] = df['Placement'].str.replace('&amp', ' ', regex = True)\n",
    "df['Placement'] = df['Placement'].str.replace('<$', '', regex = True)\n",
    "df['Placement'] = df['Placement'].str.replace('\\($', '', regex = True)\n",
    "df['Placement'] = df['Placement'].str.replace('\\s+$', '', regex = True)\n",
    "df['Placement'] = df['Placement'].str.replace('\\xa0', ' ')\n",
    "df = df[~df['Placement'].isnull()]"
   ]
  },
  {
   "cell_type": "markdown",
   "metadata": {},
   "source": [
    "Use the nlp function to label entity:"
   ]
  },
  {
   "cell_type": "code",
   "execution_count": 375,
   "metadata": {},
   "outputs": [],
   "source": [
    "# All unique placement\n",
    "plm = df['Placement'].unique()\n",
    "\n",
    "nlp = en_core_web_sm.load()\n",
    "plm_map1 = {}\n",
    "\n",
    "for i in plm:\n",
    "    doc = nlp(i.lower())\n",
    "    plm_map1[i] = [(X.text, X.label_) for X in doc.ents]"
   ]
  },
  {
   "cell_type": "code",
   "execution_count": 522,
   "metadata": {},
   "outputs": [],
   "source": [
    "# only keep the entity labeled as 'ORG'\n",
    "# some ORG examples include xxxx university, imf, world bank, etc\n",
    "plm_org_li = [i[0][0] for i in list(plm_map1.values()) if i != [] and i[0][1] == 'ORG']\n",
    "plm_org_li_freq = Counter(plm_org_li)\n",
    "# del plm_org_li_freq['department of economics']\n",
    "plm_org_li_count = Counter(plm_org_li_freq)\n",
    "# print(plm_org_li_count.most_common())"
   ]
  },
  {
   "cell_type": "markdown",
   "metadata": {},
   "source": [
    "Below implements the logics:\n",
    "\n",
    "Step 1: if nlp returns no valid labeled entity, then use original placement name\n",
    "\n",
    "Step 2: otherwise, check the number of labeled entities\n",
    "\n",
    "Step 3: if the number of labeled entities have no ORG, then use original placement name\n",
    "\n",
    "Step 4: if the number of labeled entities have just one ORG, use that ORG\n",
    "\n",
    "Step 5: if the number of labeled entities have more than one ORG, use the one with highest frequency based on plm_org_li_freq"
   ]
  },
  {
   "cell_type": "code",
   "execution_count": 441,
   "metadata": {},
   "outputs": [],
   "source": [
    "plm_cleaned1 = df.copy()\n",
    "plm_cleaned1['cleanedPlacement'] = None\n",
    "\n",
    "for i in plm_cleaned1.index:\n",
    "    \n",
    "    plm_name = plm_cleaned1['Placement'][i]\n",
    "    doc = nlp(plm_name.lower())\n",
    "    plm_doc = [(X.text, X.label_) for X in doc.ents]\n",
    "    \n",
    "    if len(plm_doc) == 0:\n",
    "        plm_cleaned1.loc[i, 'cleanedPlacement'] = plm_name.lower()\n",
    "        \n",
    "    else:   \n",
    "        \n",
    "        org = [j[0] for j in plm_doc if j[1] == 'ORG']\n",
    "\n",
    "        if len(org) > 0:\n",
    "            \n",
    "            num_org = [plm_org_li_freq[k] for k in org]\n",
    "            idx = num_org.index(max(num_org))\n",
    "            plm_cleaned1.loc[i, 'cleanedPlacement'] = org[idx]\n",
    "        \n",
    "        else:\n",
    "            \n",
    "            plm_cleaned1.loc[i, 'cleanedPlacement'] = plm_name.lower()"
   ]
  },
  {
   "cell_type": "markdown",
   "metadata": {},
   "source": [
    "Identify the academic palcement:\n",
    "\n",
    "Step 1: rule-based: all placement containing \"university\", \"college\", \"school\", etc\n",
    "\n",
    "Step 2: from step 1, identify a set of school names, e.g. fudan univ -> fudan\n",
    "\n",
    "Step 3: from plm_acr find the university name and acronym\n",
    "\n",
    "Step 4: apply another rule, placement containing the school names from step 2 or university name or acronym from step 3"
   ]
  },
  {
   "cell_type": "code",
   "execution_count": 539,
   "metadata": {},
   "outputs": [],
   "source": [
    "# remove the null cleaned placement\n",
    "plm_cleaned1 = plm_cleaned1[~pd.isna(plm_cleaned1['cleanedPlacement'])]\n",
    "plm_acr = plm_acr.rename(columns={'acronym': 'Acronym'}).drop(['link', 'note'], axis = 1)\n",
    "univ, acr = list(plm_acr['university'].str.lower()), list(plm_acr['Acronym'])"
   ]
  },
  {
   "cell_type": "code",
   "execution_count": 544,
   "metadata": {},
   "outputs": [
    {
     "data": {
      "text/html": [
       "<div>\n",
       "<style scoped>\n",
       "    .dataframe tbody tr th:only-of-type {\n",
       "        vertical-align: middle;\n",
       "    }\n",
       "\n",
       "    .dataframe tbody tr th {\n",
       "        vertical-align: top;\n",
       "    }\n",
       "\n",
       "    .dataframe thead th {\n",
       "        text-align: right;\n",
       "    }\n",
       "</style>\n",
       "<table border=\"1\" class=\"dataframe\">\n",
       "  <thead>\n",
       "    <tr style=\"text-align: right;\">\n",
       "      <th></th>\n",
       "      <th>Year</th>\n",
       "      <th>Name</th>\n",
       "      <th>Placement</th>\n",
       "      <th>Acronym</th>\n",
       "      <th>cleanedPlacement</th>\n",
       "      <th>university</th>\n",
       "      <th>place</th>\n",
       "      <th>usnews</th>\n",
       "      <th>Academia</th>\n",
       "      <th>Rank</th>\n",
       "    </tr>\n",
       "  </thead>\n",
       "  <tbody>\n",
       "    <tr>\n",
       "      <th>0</th>\n",
       "      <td>2019</td>\n",
       "      <td>&lt;p&gt;Yahia Abuhashem</td>\n",
       "      <td>Anthem</td>\n",
       "      <td>american</td>\n",
       "      <td>anthem</td>\n",
       "      <td>American University</td>\n",
       "      <td>Washington, DC</td>\n",
       "      <td>RNP in Economics</td>\n",
       "      <td>False</td>\n",
       "      <td>80</td>\n",
       "    </tr>\n",
       "    <tr>\n",
       "      <th>1</th>\n",
       "      <td>2019</td>\n",
       "      <td>Zidong An</td>\n",
       "      <td>International Monetary Fund</td>\n",
       "      <td>american</td>\n",
       "      <td>international monetary fund</td>\n",
       "      <td>American University</td>\n",
       "      <td>Washington, DC</td>\n",
       "      <td>RNP in Economics</td>\n",
       "      <td>False</td>\n",
       "      <td>80</td>\n",
       "    </tr>\n",
       "    <tr>\n",
       "      <th>2</th>\n",
       "      <td>2019</td>\n",
       "      <td>James Boohaker</td>\n",
       "      <td>US Government Accountability Office</td>\n",
       "      <td>american</td>\n",
       "      <td>us government accountability office</td>\n",
       "      <td>American University</td>\n",
       "      <td>Washington, DC</td>\n",
       "      <td>RNP in Economics</td>\n",
       "      <td>False</td>\n",
       "      <td>80</td>\n",
       "    </tr>\n",
       "    <tr>\n",
       "      <th>3</th>\n",
       "      <td>2019</td>\n",
       "      <td>Woubet Kassa</td>\n",
       "      <td>World Bank</td>\n",
       "      <td>american</td>\n",
       "      <td>world bank</td>\n",
       "      <td>American University</td>\n",
       "      <td>Washington, DC</td>\n",
       "      <td>RNP in Economics</td>\n",
       "      <td>False</td>\n",
       "      <td>80</td>\n",
       "    </tr>\n",
       "    <tr>\n",
       "      <th>4</th>\n",
       "      <td>2019</td>\n",
       "      <td>Natalia Leszczyszyn</td>\n",
       "      <td>Environmental Protection Agency</td>\n",
       "      <td>american</td>\n",
       "      <td>environmental protection agency</td>\n",
       "      <td>American University</td>\n",
       "      <td>Washington, DC</td>\n",
       "      <td>RNP in Economics</td>\n",
       "      <td>False</td>\n",
       "      <td>80</td>\n",
       "    </tr>\n",
       "    <tr>\n",
       "      <th>...</th>\n",
       "      <td>...</td>\n",
       "      <td>...</td>\n",
       "      <td>...</td>\n",
       "      <td>...</td>\n",
       "      <td>...</td>\n",
       "      <td>...</td>\n",
       "      <td>...</td>\n",
       "      <td>...</td>\n",
       "      <td>...</td>\n",
       "      <td>...</td>\n",
       "    </tr>\n",
       "    <tr>\n",
       "      <th>4184</th>\n",
       "      <td>2009</td>\n",
       "      <td>Zhengzheng Pan</td>\n",
       "      <td>Facebook</td>\n",
       "      <td>vt</td>\n",
       "      <td>facebook</td>\n",
       "      <td>Virginia Tech</td>\n",
       "      <td>Blacksburg, VA</td>\n",
       "      <td>#59 in Economics (tie)</td>\n",
       "      <td>False</td>\n",
       "      <td>59</td>\n",
       "    </tr>\n",
       "    <tr>\n",
       "      <th>4185</th>\n",
       "      <td>2008</td>\n",
       "      <td>Jaideep Chowdhury</td>\n",
       "      <td>James Madison University</td>\n",
       "      <td>vt</td>\n",
       "      <td>james madison university</td>\n",
       "      <td>Virginia Tech</td>\n",
       "      <td>Blacksburg, VA</td>\n",
       "      <td>#59 in Economics (tie)</td>\n",
       "      <td>True</td>\n",
       "      <td>59</td>\n",
       "    </tr>\n",
       "    <tr>\n",
       "      <th>4186</th>\n",
       "      <td>2008</td>\n",
       "      <td>Andre Crawford</td>\n",
       "      <td>Pricewaterhouse Coopers</td>\n",
       "      <td>vt</td>\n",
       "      <td>coopers</td>\n",
       "      <td>Virginia Tech</td>\n",
       "      <td>Blacksburg, VA</td>\n",
       "      <td>#59 in Economics (tie)</td>\n",
       "      <td>False</td>\n",
       "      <td>59</td>\n",
       "    </tr>\n",
       "    <tr>\n",
       "      <th>4187</th>\n",
       "      <td>2007</td>\n",
       "      <td>Reza Kheirandish</td>\n",
       "      <td>Clayton State University   School of Business</td>\n",
       "      <td>vt</td>\n",
       "      <td>clayton state university   school of</td>\n",
       "      <td>Virginia Tech</td>\n",
       "      <td>Blacksburg, VA</td>\n",
       "      <td>#59 in Economics (tie)</td>\n",
       "      <td>True</td>\n",
       "      <td>59</td>\n",
       "    </tr>\n",
       "    <tr>\n",
       "      <th>4188</th>\n",
       "      <td>2007</td>\n",
       "      <td>Blair Mongado</td>\n",
       "      <td>Liberty Mutual Insurance</td>\n",
       "      <td>vt</td>\n",
       "      <td>liberty mutual insurance</td>\n",
       "      <td>Virginia Tech</td>\n",
       "      <td>Blacksburg, VA</td>\n",
       "      <td>#59 in Economics (tie)</td>\n",
       "      <td>False</td>\n",
       "      <td>59</td>\n",
       "    </tr>\n",
       "  </tbody>\n",
       "</table>\n",
       "<p>4172 rows × 10 columns</p>\n",
       "</div>"
      ],
      "text/plain": [
       "      Year                 Name  \\\n",
       "0     2019   <p>Yahia Abuhashem   \n",
       "1     2019            Zidong An   \n",
       "2     2019       James Boohaker   \n",
       "3     2019         Woubet Kassa   \n",
       "4     2019  Natalia Leszczyszyn   \n",
       "...    ...                  ...   \n",
       "4184  2009       Zhengzheng Pan   \n",
       "4185  2008    Jaideep Chowdhury   \n",
       "4186  2008       Andre Crawford   \n",
       "4187  2007     Reza Kheirandish   \n",
       "4188  2007        Blair Mongado   \n",
       "\n",
       "                                          Placement   Acronym  \\\n",
       "0                                            Anthem  american   \n",
       "1                       International Monetary Fund  american   \n",
       "2               US Government Accountability Office  american   \n",
       "3                                        World Bank  american   \n",
       "4                   Environmental Protection Agency  american   \n",
       "...                                             ...       ...   \n",
       "4184                                       Facebook        vt   \n",
       "4185                       James Madison University        vt   \n",
       "4186                        Pricewaterhouse Coopers        vt   \n",
       "4187  Clayton State University   School of Business        vt   \n",
       "4188                       Liberty Mutual Insurance        vt   \n",
       "\n",
       "                          cleanedPlacement           university  \\\n",
       "0                                   anthem  American University   \n",
       "1              international monetary fund  American University   \n",
       "2      us government accountability office  American University   \n",
       "3                               world bank  American University   \n",
       "4          environmental protection agency  American University   \n",
       "...                                    ...                  ...   \n",
       "4184                              facebook        Virginia Tech   \n",
       "4185              james madison university        Virginia Tech   \n",
       "4186                               coopers        Virginia Tech   \n",
       "4187  clayton state university   school of        Virginia Tech   \n",
       "4188              liberty mutual insurance        Virginia Tech   \n",
       "\n",
       "               place                  usnews  Academia Rank  \n",
       "0     Washington, DC        RNP in Economics     False   80  \n",
       "1     Washington, DC        RNP in Economics     False   80  \n",
       "2     Washington, DC        RNP in Economics     False   80  \n",
       "3     Washington, DC        RNP in Economics     False   80  \n",
       "4     Washington, DC        RNP in Economics     False   80  \n",
       "...              ...                     ...       ...  ...  \n",
       "4184  Blacksburg, VA  #59 in Economics (tie)     False   59  \n",
       "4185  Blacksburg, VA  #59 in Economics (tie)      True   59  \n",
       "4186  Blacksburg, VA  #59 in Economics (tie)     False   59  \n",
       "4187  Blacksburg, VA  #59 in Economics (tie)      True   59  \n",
       "4188  Blacksburg, VA  #59 in Economics (tie)     False   59  \n",
       "\n",
       "[4172 rows x 10 columns]"
      ]
     },
     "execution_count": 544,
     "metadata": {},
     "output_type": "execute_result"
    }
   ],
   "source": [
    "plm_cleaned = pd.merge(plm_cleaned1, plm_acr, 'left', 'Acronym')\n",
    "\n",
    "plm_cleaned['Academia'] = (plm_cleaned['cleanedPlacement'].str.contains('university')) | \\\n",
    "                            (plm_cleaned['cleanedPlacement'].str.contains('college')) | \\\n",
    "                            (plm_cleaned['cleanedPlacement'].str.contains('school')) | \\\n",
    "                            (plm_cleaned['cleanedPlacement'].str.contains('professor')) | \\\n",
    "                            (plm_cleaned['cleanedPlacement'].str.contains('postdoc'))\n",
    "\n",
    "acr = list(plm_cleaned['cleanedPlacement'][plm_cleaned['Academia']].str.replace('university of ', '')\\\n",
    "        .str.replace(' university', '').str.replace(' ', ''))\n",
    "acr.extend(list(plm_acr['Acronym']))\n",
    "\n",
    "univ = list(plm_acr['university'].str.lower())\n",
    "\n",
    "plm_cleaned['Academia1'] = plm_cleaned['cleanedPlacement'].isin(acr)\n",
    "plm_cleaned['Academia2'] = plm_cleaned['cleanedPlacement'].isin(univ)\n",
    "plm_cleaned['Academia'] = plm_cleaned['Academia'] | plm_cleaned['Academia1'] | plm_cleaned['Academia2']\n",
    "plm_cleaned.drop(['Academia1', 'Academia2'], axis = 1, inplace = True)\n",
    "\n",
    "plm_cleaned['Rank'] = plm_cleaned['usnews'].str[1:3]\n",
    "# All NP are universities outside the 1-72 rank\n",
    "plm_cleaned.loc[plm_cleaned['Rank'] == 'NP', 'Rank'] = '80'\n",
    "\n",
    "plm_cleaned = plm_cleaned[~pd.isna(plm_cleaned['university'])]\n",
    "plm_cleaned"
   ]
  },
  {
   "cell_type": "code",
   "execution_count": 546,
   "metadata": {},
   "outputs": [],
   "source": [
    "plm_cleaned.to_csv(filename + \"cleaned.csv\", index = False)"
   ]
  },
  {
   "cell_type": "markdown",
   "metadata": {},
   "source": [
    "## Other attempts to clean placement data (Not used)"
   ]
  },
  {
   "cell_type": "markdown",
   "metadata": {},
   "source": [
    "Attempt 1: count the number of shared tokens in placement\n",
    "For example: 'fudan university, SOE' and 'Assistant Prof, fudan', where 'fudan' is shared."
   ]
  },
  {
   "cell_type": "code",
   "execution_count": 526,
   "metadata": {},
   "outputs": [],
   "source": [
    "str1 = 'VP, Advanced Analytical Consultant at Wells Fargo'\n",
    "d = {}\n",
    "\n",
    "for i in plm:\n",
    "    li1= str1.lower().split(' ')\n",
    "    li2 = i.lower().split(' ')\n",
    "    ins = list(set(li1).intersection(set(li2)))\n",
    "    d[i] = len(ins)"
   ]
  },
  {
   "cell_type": "code",
   "execution_count": 527,
   "metadata": {},
   "outputs": [
    {
     "name": "stdout",
     "output_type": "stream",
     "text": [
      "VP, Advanced Analytical Consultant at Wells Fargo 7\n",
      "Wells Fargo Marketing Database Consultant 3\n",
      "Consultant at EconOne in Berkeley, California 2\n",
      "Hanqing Advanced Institute of Economics and Finance at Renming University 2\n",
      "United States Air Force (active duty, next assignment expected to at the Academy) 1\n",
      "University of Nebraska at Kearney (tenure track) 1\n",
      "Consultant to the World Bank Africa Gender Innovation Lab 1\n",
      "Center for Education and the Workforce at Georgetown University 1\n",
      "University at Buffalo, The State University of New York, (Assistant Professor) 1\n",
      "School of Finance at Nankai University, China (assistant professor) 1\n"
     ]
    }
   ],
   "source": [
    "sort_orders = sorted(d.items(), key=lambda x: x[1], reverse = True)\n",
    "\n",
    "for i in sort_orders[0:10]:\n",
    "    print(i[0], i[1])"
   ]
  },
  {
   "cell_type": "markdown",
   "metadata": {},
   "source": [
    "Attempt 2: Levenshtein distance method"
   ]
  },
  {
   "cell_type": "code",
   "execution_count": 528,
   "metadata": {},
   "outputs": [],
   "source": [
    "str1 = 'fudan university'\n",
    "d = {}\n",
    "\n",
    "for i in plm:\n",
    "    d[i] = lev.distance(str1, i.lower())"
   ]
  },
  {
   "cell_type": "code",
   "execution_count": 529,
   "metadata": {},
   "outputs": [
    {
     "name": "stdout",
     "output_type": "stream",
     "text": [
      "Fudan University 0\n",
      "Furman University 2\n",
      "Wuhan University 2\n",
      "Jinan University 3\n",
      "Tulane University 3\n",
      "Fordham University 4\n",
      "Brown University 4\n",
      "Purdue University 4\n",
      "Duke University 4\n",
      "Auburn University 4\n"
     ]
    }
   ],
   "source": [
    "sort_orders = sorted(d.items(), key=lambda x: x[1])\n",
    "\n",
    "for i in sort_orders[0:10]:\n",
    "    print(i[0], i[1])"
   ]
  }
 ],
 "metadata": {
  "kernelspec": {
   "display_name": "Python 3",
   "language": "python",
   "name": "python3"
  },
  "language_info": {
   "codemirror_mode": {
    "name": "ipython",
    "version": 3
   },
   "file_extension": ".py",
   "mimetype": "text/x-python",
   "name": "python",
   "nbconvert_exporter": "python",
   "pygments_lexer": "ipython3",
   "version": "3.7.6"
  }
 },
 "nbformat": 4,
 "nbformat_minor": 4
}
